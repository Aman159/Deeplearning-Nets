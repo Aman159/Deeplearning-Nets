{
 "cells": [
  {
   "cell_type": "code",
   "execution_count": 1,
   "metadata": {},
   "outputs": [],
   "source": [
    "import sys\n",
    "sys.path.insert(0, \"../\")"
   ]
  },
  {
   "cell_type": "code",
   "execution_count": 2,
   "metadata": {},
   "outputs": [],
   "source": [
    "%load_ext autoreload\n",
    "%autoreload 2"
   ]
  },
  {
   "cell_type": "code",
   "execution_count": 1,
   "metadata": {},
   "outputs": [
    {
     "name": "stderr",
     "output_type": "stream",
     "text": [
      "/home/shubham/anaconda3/envs/brain3dgpu/lib/python3.6/site-packages/statsmodels/tools/_testing.py:19: FutureWarning: pandas.util.testing is deprecated. Use the functions in the public API at pandas.testing instead.\n",
      "  import pandas.util.testing as tm\n"
     ]
    },
    {
     "ename": "ModuleNotFoundError",
     "evalue": "No module named 'src'",
     "output_type": "error",
     "traceback": [
      "\u001b[0;31m---------------------------------------------------------------------------\u001b[0m",
      "\u001b[0;31mModuleNotFoundError\u001b[0m                       Traceback (most recent call last)",
      "\u001b[0;32m<ipython-input-1-b46aa92275fe>\u001b[0m in \u001b[0;36m<module>\u001b[0;34m\u001b[0m\n\u001b[1;32m      4\u001b[0m \u001b[0;32mimport\u001b[0m \u001b[0mmatplotlib\u001b[0m\u001b[0;34m.\u001b[0m\u001b[0mpyplot\u001b[0m \u001b[0;32mas\u001b[0m \u001b[0mplt\u001b[0m\u001b[0;34m\u001b[0m\u001b[0;34m\u001b[0m\u001b[0m\n\u001b[1;32m      5\u001b[0m \u001b[0;32mimport\u001b[0m \u001b[0mnumpy\u001b[0m \u001b[0;32mas\u001b[0m \u001b[0mnp\u001b[0m\u001b[0;34m\u001b[0m\u001b[0;34m\u001b[0m\u001b[0m\n\u001b[0;32m----> 6\u001b[0;31m \u001b[0;32mfrom\u001b[0m \u001b[0msrc\u001b[0m\u001b[0;34m.\u001b[0m\u001b[0mdata\u001b[0m\u001b[0;34m.\u001b[0m\u001b[0mutils\u001b[0m \u001b[0;32mimport\u001b[0m \u001b[0mget_all_images\u001b[0m\u001b[0;34m,\u001b[0m \u001b[0mconvert_to_np_array\u001b[0m\u001b[0;34m,\u001b[0m \u001b[0mread_file\u001b[0m\u001b[0;34m\u001b[0m\u001b[0;34m\u001b[0m\u001b[0m\n\u001b[0m\u001b[1;32m      7\u001b[0m \u001b[0mget_ipython\u001b[0m\u001b[0;34m(\u001b[0m\u001b[0;34m)\u001b[0m\u001b[0;34m.\u001b[0m\u001b[0mrun_line_magic\u001b[0m\u001b[0;34m(\u001b[0m\u001b[0;34m'matplotlib'\u001b[0m\u001b[0;34m,\u001b[0m \u001b[0;34m'inline'\u001b[0m\u001b[0;34m)\u001b[0m\u001b[0;34m\u001b[0m\u001b[0;34m\u001b[0m\u001b[0m\n\u001b[1;32m      8\u001b[0m \u001b[0;32mimport\u001b[0m \u001b[0mglob\u001b[0m\u001b[0;34m\u001b[0m\u001b[0;34m\u001b[0m\u001b[0m\n",
      "\u001b[0;31mModuleNotFoundError\u001b[0m: No module named 'src'"
     ]
    }
   ],
   "source": [
    "import ants\n",
    "import pandas as pd\n",
    "from pathlib import Path\n",
    "import matplotlib.pyplot as plt\n",
    "import numpy as np\n",
    "from src.data.utils import get_all_images, convert_to_np_array, read_file\n",
    "%matplotlib inline\n",
    "import glob\n",
    "from tqdm import tqdm"
   ]
  },
  {
   "cell_type": "code",
   "execution_count": 4,
   "metadata": {},
   "outputs": [],
   "source": [
    "path = '/home/shubham/Documents/in-meds-brain-segmentation/cerebellum_dataset/'\n",
    "# IN_PATH = Path(path)\n",
    "paths = glob.glob(path+'*')"
   ]
  },
  {
   "cell_type": "code",
   "execution_count": 5,
   "metadata": {},
   "outputs": [
    {
     "name": "stderr",
     "output_type": "stream",
     "text": [
      "100%|██████████| 21/21 [00:06<00:00,  3.11it/s]\n"
     ]
    }
   ],
   "source": [
    "filepaths_input = []\n",
    "filepaths_output = []\n",
    "train_test = []\n",
    "outlabel = []\n",
    "pixel_count = []\n",
    "img_shapes = []\n",
    "\n",
    "for i in tqdm(paths):\n",
    "    if np.random.randint(10) <=8:\n",
    "        train = True\n",
    "    else:\n",
    "        train = False\n",
    "    file_id = str(i.rsplit('/', 1)[-1])\n",
    "    mri_loc = path+file_id+'/'+file_id+'.nii.gz'\n",
    "    cerebellum_loc = path+file_id+'/'+file_id+'_cerebellum.nii.gz'\n",
    "    mri_img = ants.image_read(mri_loc)\n",
    "    cerebellum_img = ants.image_read(cerebellum_loc)\n",
    "    mri_np = mri_img.numpy()\n",
    "    cerebellum_np = cerebellum_img.numpy()\n",
    "    slices = mri_np.shape[2]\n",
    "    for sli in range(slices):\n",
    "        mri_np_slice = mri_np[:, :, sli]\n",
    "        cerebellum_np_slice = cerebellum_np[:, :, sli]\n",
    "        save_path_mri = '/home/shubham/Documents/in-meds-brain-segmentation/mris/{}_{}'.format(file_id, sli)\n",
    "        save_path_cerebellum = '/home/shubham/Documents/in-meds-brain-segmentation/cerebellum/{}_{}'.format(file_id, sli)\n",
    "        np.save(save_path_mri, mri_np_slice)\n",
    "        np.save(save_path_cerebellum, cerebellum_np_slice)\n",
    "        train_test.append(train)\n",
    "        filepaths_input.append(save_path_mri+\".npy\")\n",
    "        filepaths_output.append(save_path_cerebellum+\".npy\")\n",
    "        left_cerebellum = cerebellum_np_slice[cerebellum_np_slice==2].shape[0]\n",
    "        right_cerebellum = cerebellum_np_slice[cerebellum_np_slice==1].shape[0]\n",
    "        pixel_count.append((left_cerebellum, right_cerebellum))\n",
    "        if np.sum(cerebellum_np_slice) > 0:\n",
    "            outlabel.append(1)\n",
    "        else:\n",
    "            outlabel.append(0)\n",
    "        h,w = mri_np_slice.shape[:2]\n",
    "        img_shapes.append((h, w))"
   ]
  },
  {
   "cell_type": "code",
   "execution_count": 6,
   "metadata": {},
   "outputs": [
    {
     "name": "stdout",
     "output_type": "stream",
     "text": [
      "(3472, 6)\n"
     ]
    },
    {
     "data": {
      "text/html": [
       "<div>\n",
       "<style scoped>\n",
       "    .dataframe tbody tr th:only-of-type {\n",
       "        vertical-align: middle;\n",
       "    }\n",
       "\n",
       "    .dataframe tbody tr th {\n",
       "        vertical-align: top;\n",
       "    }\n",
       "\n",
       "    .dataframe thead th {\n",
       "        text-align: right;\n",
       "    }\n",
       "</style>\n",
       "<table border=\"1\" class=\"dataframe\">\n",
       "  <thead>\n",
       "    <tr style=\"text-align: right;\">\n",
       "      <th></th>\n",
       "      <th>img_path</th>\n",
       "      <th>label_path</th>\n",
       "      <th>train_test</th>\n",
       "      <th>cerebellum_present_or_not</th>\n",
       "      <th>pixel_count</th>\n",
       "      <th>img_shapes</th>\n",
       "    </tr>\n",
       "  </thead>\n",
       "  <tbody>\n",
       "    <tr>\n",
       "      <th>0</th>\n",
       "      <td>/home/shubham/Documents/in-meds-brain-segmenta...</td>\n",
       "      <td>/home/shubham/Documents/in-meds-brain-segmenta...</td>\n",
       "      <td>True</td>\n",
       "      <td>0</td>\n",
       "      <td>(0, 0)</td>\n",
       "      <td>(256, 256)</td>\n",
       "    </tr>\n",
       "    <tr>\n",
       "      <th>1</th>\n",
       "      <td>/home/shubham/Documents/in-meds-brain-segmenta...</td>\n",
       "      <td>/home/shubham/Documents/in-meds-brain-segmenta...</td>\n",
       "      <td>True</td>\n",
       "      <td>0</td>\n",
       "      <td>(0, 0)</td>\n",
       "      <td>(256, 256)</td>\n",
       "    </tr>\n",
       "    <tr>\n",
       "      <th>2</th>\n",
       "      <td>/home/shubham/Documents/in-meds-brain-segmenta...</td>\n",
       "      <td>/home/shubham/Documents/in-meds-brain-segmenta...</td>\n",
       "      <td>True</td>\n",
       "      <td>0</td>\n",
       "      <td>(0, 0)</td>\n",
       "      <td>(256, 256)</td>\n",
       "    </tr>\n",
       "    <tr>\n",
       "      <th>3</th>\n",
       "      <td>/home/shubham/Documents/in-meds-brain-segmenta...</td>\n",
       "      <td>/home/shubham/Documents/in-meds-brain-segmenta...</td>\n",
       "      <td>True</td>\n",
       "      <td>0</td>\n",
       "      <td>(0, 0)</td>\n",
       "      <td>(256, 256)</td>\n",
       "    </tr>\n",
       "    <tr>\n",
       "      <th>4</th>\n",
       "      <td>/home/shubham/Documents/in-meds-brain-segmenta...</td>\n",
       "      <td>/home/shubham/Documents/in-meds-brain-segmenta...</td>\n",
       "      <td>True</td>\n",
       "      <td>0</td>\n",
       "      <td>(0, 0)</td>\n",
       "      <td>(256, 256)</td>\n",
       "    </tr>\n",
       "  </tbody>\n",
       "</table>\n",
       "</div>"
      ],
      "text/plain": [
       "                                            img_path  \\\n",
       "0  /home/shubham/Documents/in-meds-brain-segmenta...   \n",
       "1  /home/shubham/Documents/in-meds-brain-segmenta...   \n",
       "2  /home/shubham/Documents/in-meds-brain-segmenta...   \n",
       "3  /home/shubham/Documents/in-meds-brain-segmenta...   \n",
       "4  /home/shubham/Documents/in-meds-brain-segmenta...   \n",
       "\n",
       "                                          label_path train_test  \\\n",
       "0  /home/shubham/Documents/in-meds-brain-segmenta...       True   \n",
       "1  /home/shubham/Documents/in-meds-brain-segmenta...       True   \n",
       "2  /home/shubham/Documents/in-meds-brain-segmenta...       True   \n",
       "3  /home/shubham/Documents/in-meds-brain-segmenta...       True   \n",
       "4  /home/shubham/Documents/in-meds-brain-segmenta...       True   \n",
       "\n",
       "  cerebellum_present_or_not pixel_count  img_shapes  \n",
       "0                         0      (0, 0)  (256, 256)  \n",
       "1                         0      (0, 0)  (256, 256)  \n",
       "2                         0      (0, 0)  (256, 256)  \n",
       "3                         0      (0, 0)  (256, 256)  \n",
       "4                         0      (0, 0)  (256, 256)  "
      ]
     },
     "execution_count": 6,
     "metadata": {},
     "output_type": "execute_result"
    }
   ],
   "source": [
    "data = pd.DataFrame([filepaths_input, filepaths_output, train_test, outlabel, pixel_count, img_shapes]).T\n",
    "data.columns = [\"img_path\", \"label_path\", \"train_test\", \"cerebellum_present_or_not\", \"pixel_count\", \"img_shapes\"]\n",
    "print(data.shape)\n",
    "data.head()"
   ]
  },
  {
   "cell_type": "code",
   "execution_count": 7,
   "metadata": {},
   "outputs": [],
   "source": [
    "data.to_csv(\"/home/shubham/Documents/in-meds-brain-segmentation/pytorch/segmentation_cerebellum.csv\", index=False)"
   ]
  },
  {
   "cell_type": "code",
   "execution_count": 1,
   "metadata": {},
   "outputs": [
    {
     "ename": "ModuleNotFoundError",
     "evalue": "No module named 'src'",
     "output_type": "error",
     "traceback": [
      "\u001b[0;31m---------------------------------------------------------------------------\u001b[0m",
      "\u001b[0;31mModuleNotFoundError\u001b[0m                       Traceback (most recent call last)",
      "\u001b[0;32m<ipython-input-1-a7362dcb71aa>\u001b[0m in \u001b[0;36m<module>\u001b[0;34m\u001b[0m\n\u001b[0;32m----> 1\u001b[0;31m \u001b[0;32mimport\u001b[0m \u001b[0msrc\u001b[0m\u001b[0;34m\u001b[0m\u001b[0;34m\u001b[0m\u001b[0m\n\u001b[0m",
      "\u001b[0;31mModuleNotFoundError\u001b[0m: No module named 'src'"
     ]
    }
   ],
   "source": [
    "import src"
   ]
  },
  {
   "cell_type": "code",
   "execution_count": null,
   "metadata": {},
   "outputs": [],
   "source": []
  }
 ],
 "metadata": {
  "kernelspec": {
   "display_name": "Python 3",
   "language": "python",
   "name": "python3"
  },
  "language_info": {
   "codemirror_mode": {
    "name": "ipython",
    "version": 3
   },
   "file_extension": ".py",
   "mimetype": "text/x-python",
   "name": "python",
   "nbconvert_exporter": "python",
   "pygments_lexer": "ipython3",
   "version": "3.6.7"
  }
 },
 "nbformat": 4,
 "nbformat_minor": 4
}
